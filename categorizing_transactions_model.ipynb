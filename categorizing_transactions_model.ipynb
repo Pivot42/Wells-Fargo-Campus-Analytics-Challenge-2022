{
 "cells": [
  {
   "cell_type": "markdown",
   "metadata": {
    "collapsed": false,
    "pycharm": {
     "name": "#%% md\n"
    }
   },
   "source": [
    "<h1>Wells Fargo’s Campus Analytics 2022 Challenge<h1>"
   ]
  },
  {
   "cell_type": "markdown",
   "metadata": {
    "collapsed": false,
    "pycharm": {
     "name": "#%% md\n"
    }
   },
   "source": [
    "<h2>Categorizing Transactions<h2>"
   ]
  },
  {
   "cell_type": "markdown",
   "metadata": {},
   "source": []
  },
  {
   "cell_type": "code",
   "execution_count": null,
   "metadata": {
    "collapsed": false,
    "pycharm": {
     "name": "#%%\n"
    }
   },
   "outputs": [],
   "source": [
    "from sklearnex import patch_sklearn\n",
    "patch_sklearn()\n",
    "#Import the LinearSVC from Sklearn.\n",
    "from sklearn.svm import LinearSVC\n",
    "\n",
    "#Use pandas library to be able to manipulate, import, and export data.\n",
    "import pandas as pd\n",
    "\n",
    "#Import TfidfVectorizer from the Sklearn library that would help with the extraction of features from text.\n",
    "from sklearn.feature_extraction.text import TfidfVectorizer\n",
    "\n",
    "import matplotlib.pyplot as plt\n",
    "import seaborn as sns\n",
    "from sklearn.metrics import confusion_matrix\n",
    "from sklearn.model_selection import train_test_split\n",
    "from sklearn import metrics"
   ]
  },
  {
   "cell_type": "code",
   "execution_count": null,
   "metadata": {
    "collapsed": false,
    "pycharm": {
     "name": "#%%\n"
    }
   },
   "outputs": [],
   "source": [
    "#Import training data.\n",
    "data_for_training = pd.read_csv(r'training_Data_CAC_2022.csv')\n",
    "\n",
    "#Select the columns relevant for our model.\n",
    "training_data = pd.DataFrame(data_for_training, columns= ['merchant_cat_code', 'coalesced_brand', 'category'])\n",
    "\n",
    "#Import testing data.\n",
    "data_for_testing = pd.read_csv('test_data_CAC_2022.csv')\n",
    "\n",
    "#Select the columns relevant for our model.\n",
    "test_data = pd.DataFrame(data_for_testing, columns= ['merchant_cat_code', 'coalesced_brand'])\n",
    "\n",
    "#Import iso codes.\n",
    "iso_codes = pd.read_csv('iso18245.csv')\n",
    "\n",
    "#Display training data to ensure it was imported correctly.\n",
    "training_data"
   ]
  },
  {
   "cell_type": "code",
   "execution_count": null,
   "metadata": {
    "collapsed": false,
    "pycharm": {
     "name": "#%%\n"
    }
   },
   "outputs": [],
   "source": [
    "#Display test data to ensure it was imported correctly.\n",
    "test_data"
   ]
  },
  {
   "cell_type": "code",
   "execution_count": null,
   "metadata": {
    "pycharm": {
     "name": "#%%\n"
    }
   },
   "outputs": [],
   "source": [
    "#Display iso codes to ensure it was imported correctly.\n",
    "#Remove all special characters from the text of the iso codes.\n",
    "iso_codes.DESCRIPTION = iso_codes.DESCRIPTION.str.replace('/', ' ')\n",
    "iso_codes.DESCRIPTION = iso_codes.DESCRIPTION.str.replace('[^\\w\\s]', ' ')\n",
    "iso_codes.DESCRIPTION = iso_codes.DESCRIPTION.str.lower()\n",
    "iso_codes"
   ]
  },
  {
   "cell_type": "markdown",
   "metadata": {
    "collapsed": false,
    "pycharm": {
     "name": "#%% md\n"
    }
   },
   "source": [
    "<h3>Data Prep<h3>"
   ]
  },
  {
   "cell_type": "code",
   "execution_count": null,
   "metadata": {
    "pycharm": {
     "name": "#%%\n"
    }
   },
   "outputs": [],
   "source": [
    "#Use for loops to navigate the merchant_cat_code colum in the training data to replace codes with a representing description. This is going to be achieved with using the function replace().\n",
    "for iso_index in range(len(iso_codes.MCC)):\n",
    "\n",
    "    for training_data_index in range(len(training_data.merchant_cat_code)):\n",
    "\n",
    "        if iso_codes.MCC[iso_index] == training_data.merchant_cat_code[training_data_index]:\n",
    "            training_data.merchant_cat_code.replace(iso_codes.MCC[iso_index], iso_codes.DESCRIPTION[iso_index], inplace=True)\n",
    "\n",
    "#Replace NaN in the merchant_cat_code colum to ensure consistency.\n",
    "training_data['merchant_cat_code'] = training_data['merchant_cat_code'].fillna('the')\n",
    "\n",
    "#Display training data to ensure the replacements where done properly.\n",
    "training_data"
   ]
  },
  {
   "cell_type": "code",
   "execution_count": null,
   "metadata": {
    "pycharm": {
     "name": "#%%\n"
    }
   },
   "outputs": [],
   "source": [
    "#Use for loops to navigate the merchant_cat_code colum in the test data to replace codes with a representing description. This is going to be achieved with using the function replace().\n",
    "for iso_index in range(len(iso_codes.MCC)):\n",
    "\n",
    "    for test_data_index in range(len(test_data.merchant_cat_code)):\n",
    "\n",
    "        if iso_codes.MCC[iso_index] == test_data.merchant_cat_code[test_data_index]:\n",
    "            test_data.merchant_cat_code.replace(iso_codes.MCC[iso_index], iso_codes.DESCRIPTION[iso_index], inplace=True)\n",
    "\n",
    "#Replace NaN in the merchant_cat_code colum to ensure consistency.\n",
    "test_data['merchant_cat_code'] = test_data['merchant_cat_code'].fillna('the')\n",
    "\n",
    "#Display training data to ensure the replacements where done properly.\n",
    "test_data"
   ]
  },
  {
   "cell_type": "code",
   "execution_count": null,
   "metadata": {
    "pycharm": {
     "name": "#%%\n"
    }
   },
   "outputs": [],
   "source": [
    "#Combine merchant_cat_code and coalesced_brand columns in the training data into the training_text colum in the training data. This is done to ensure that all the necessary text to train our model is only in one colum.\n",
    "training_data['training_text'] = training_data['merchant_cat_code'].astype(str) + ' ' + training_data['coalesced_brand']\n",
    "\n",
    "#Copy only the required columns from the training data to a new data frame. This ensures no contamination from other columns when training our model.\n",
    "final_training_data = training_data[['training_text', 'category']].copy()\n",
    "\n",
    "#Clean\n",
    "final_training_data.training_text = final_training_data.training_text.str.replace('/', ' ')\n",
    "final_training_data.training_text = final_training_data.training_text.str.replace('[^\\w\\s]', ' ')\n",
    "final_training_data.training_text = final_training_data.training_text.str.lower()\n",
    "\n",
    "#Display final training data to ensure only the correct columns where copy.\n",
    "final_training_data"
   ]
  },
  {
   "cell_type": "code",
   "execution_count": null,
   "metadata": {
    "pycharm": {
     "name": "#%%\n"
    }
   },
   "outputs": [],
   "source": [
    "#Combine merchant_cat_code and coalesced_brand columns in the test data into the test_text colum in the test data. This is done to ensure that all the necessary text to test our model is only in one colum.\n",
    "test_data['test_text'] = test_data['merchant_cat_code'].astype(str) + ' ' + test_data['coalesced_brand']\n",
    "\n",
    "#Copy only the required columns from the test data to a new data frame. This ensures no contamination from other columns when testing our model.\n",
    "final_test_data = test_data[['test_text']].copy()\n",
    "\n",
    "#Clean\n",
    "final_test_data.test_text = final_test_data.test_text.str.replace('/', ' ')\n",
    "final_test_data.test_text = final_test_data.test_text.str.replace('[^\\w\\s]', ' ')\n",
    "final_test_data.test_text = final_test_data.test_text.str.lower()\n",
    "\n",
    "#Display final test data to ensure only the correct columns where copy.\n",
    "final_test_data"
   ]
  },
  {
   "cell_type": "code",
   "execution_count": null,
   "metadata": {
    "pycharm": {
     "name": "#%%\n"
    }
   },
   "outputs": [],
   "source": [
    "#Assign a digit to a category.\n",
    "final_training_data['category_id'] = final_training_data['category'].factorize()[0]\n",
    "\n",
    "#Remove any duplicates from the data.\n",
    "category_id_final_training_data = final_training_data[['category', 'category_id']].drop_duplicates().sort_values('category_id')\n",
    "\n",
    "#Create a dictionary with string key data and digit value data.\n",
    "category_to_id = dict(category_id_final_training_data.values)\n",
    "\n",
    "#Create a dictionary with digit key data and string value data.\n",
    "id_to_category = dict(category_id_final_training_data[['category_id', 'category']].values)\n",
    "\n",
    "#Dislplay final training data to ensure is correct before extracting features from it.\n",
    "final_training_data"
   ]
  },
  {
   "cell_type": "markdown",
   "metadata": {
    "collapsed": false,
    "pycharm": {
     "name": "#%% md\n"
    }
   },
   "source": [
    "<h3>Extract Features from Text<h3>"
   ]
  },
  {
   "cell_type": "code",
   "execution_count": null,
   "metadata": {
    "pycharm": {
     "name": "#%%\n"
    }
   },
   "outputs": [],
   "source": [
    "#Assing the vectorizer an easy to use variable name.\n",
    "tfidf = TfidfVectorizer(sublinear_tf=True, norm='l2', encoding='latin-1', ngram_range=(1, 2), stop_words='english')\n",
    "\n",
    "#Learn vocabulary and idf form the training text that would use to determined features; return document-term matrix to assigned variable.\n",
    "features_training = tfidf.fit_transform(final_training_data.training_text).toarray()\n",
    "\n",
    "#Assign final training data categorical data to a easy to use variable.\n",
    "labels_training = final_training_data.category_id\n",
    "\n",
    "#Display the shape of the features training learn vocabulary.\n",
    "features_training.shape"
   ]
  },
  {
   "cell_type": "code",
   "execution_count": null,
   "metadata": {
    "pycharm": {
     "name": "#%%\n"
    }
   },
   "outputs": [],
   "source": [
    "#Use the already learn vocabulary to transform test text to a document-term matrix.\n",
    "features_test = tfidf.transform(final_test_data.test_text).toarray()\n",
    "\n",
    "#Display the shape of the features test learn vocabulary.\n",
    "features_test.shape"
   ]
  },
  {
   "cell_type": "markdown",
   "metadata": {
    "collapsed": false,
    "pycharm": {
     "name": "#%% md\n"
    }
   },
   "source": [
    "<h3>Create and Run Model<h3>"
   ]
  },
  {
   "cell_type": "code",
   "execution_count": null,
   "metadata": {
    "pycharm": {
     "name": "#%%\n"
    }
   },
   "outputs": [],
   "source": [
    "#Give the function model an easy to use variable name.\n",
    "model = LinearSVC()\n",
    "\n",
    "#Assing easy to understand variables names to the data been use on the model.\n",
    "X_train = features_training\n",
    "y_train = labels_training\n",
    "X_test = features_test\n",
    "\n",
    "#Fit the model according to the given training data.\n",
    "model.fit(X_train, y_train)\n",
    "\n",
    "#Predict class labels for the given test data.\n",
    "y_prediction = model.predict(X_test)"
   ]
  },
  {
   "cell_type": "markdown",
   "metadata": {
    "collapsed": false,
    "pycharm": {
     "name": "#%% md\n"
    }
   },
   "source": [
    "<h3>Export Data<h3>"
   ]
  },
  {
   "cell_type": "code",
   "execution_count": null,
   "metadata": {
    "pycharm": {
     "name": "#%%\n"
    }
   },
   "outputs": [],
   "source": [
    "#Import test data to create a final data frame that includes the solutions to the test data.\n",
    "final_data = pd.read_csv(r'C:\\Users\\imtec\\OneDrive - University of Texas at El Paso\\Personal Projects\\Wells Fargo Challange\\test_data_CAC_2022.csv')\n",
    "\n",
    "#Give all the empty cells a digit to better assign data to it.\n",
    "final_data['Category'] = final_data['Category'].fillna(0)\n",
    "\n",
    "#Assing the predicted data to is corresponding row.\n",
    "final_data['Category'] = y_prediction\n",
    "\n",
    "#Use loops to replace the digits from the predicted model into a string category that is easier for the user to understand.\n",
    "for final_data_index in range(len(final_data.Category)):\n",
    "    for key, value in id_to_category.items():\n",
    "        if final_data.Category[final_data_index] == key:\n",
    "            final_data.Category.replace(key, value, inplace=True)\n",
    "\n",
    "#Export the final dataframe into a csv file for better access to the data.\n",
    "final_data.to_csv(r'C:\\Users\\imtec\\OneDrive - University of Texas at El Paso\\Personal Projects\\Wells Fargo Challange\\final_data_CAC_2022_solution1.csv')"
   ]
  },
  {
   "cell_type": "markdown",
   "metadata": {
    "collapsed": false,
    "pycharm": {
     "name": "#%% md\n"
    }
   },
   "source": [
    "<h3>Extract Visuals<h3>"
   ]
  },
  {
   "cell_type": "code",
   "execution_count": null,
   "metadata": {
    "collapsed": false,
    "pycharm": {
     "name": "#%%\n"
    }
   },
   "outputs": [],
   "source": [
    "fig = plt.figure(figsize=(8,6))\n",
    "\n",
    "final_training_data.groupby('category').training_text.count().plot.bar(ylim=0)\n",
    "\n",
    "plt.show()"
   ]
  },
  {
   "cell_type": "code",
   "execution_count": null,
   "metadata": {
    "collapsed": false,
    "pycharm": {
     "name": "#%%\n"
    }
   },
   "outputs": [],
   "source": [
    "visual_model = LinearSVC()\n",
    "\n",
    "visual_X_train, visual_X_test, visual_y_train, visual_y_test, visual_indices_train, visual_indices_test = train_test_split(features_training, labels_training, final_training_data.index, test_size=0.33, random_state=0)\n",
    "visual_model.fit(visual_X_train, visual_y_train)\n",
    "y_pred = visual_model.predict(visual_X_test)\n",
    "\n",
    "conf_mat = confusion_matrix(visual_y_test, y_pred)\n",
    "fig, ax = plt.subplots(figsize=(10,10))\n",
    "sns.heatmap(conf_mat, annot=True, fmt='d', xticklabels=category_id_final_training_data.category.values, yticklabels=category_id_final_training_data.category.values)\n",
    "plt.ylabel('Actual')\n",
    "plt.xlabel('Predicted')\n",
    "plt.show()"
   ]
  },
  {
   "cell_type": "code",
   "execution_count": null,
   "metadata": {
    "collapsed": false,
    "pycharm": {
     "name": "#%%\n"
    }
   },
   "outputs": [],
   "source": [
    "print(metrics.classification_report(visual_y_test, y_pred, target_names=final_training_data['category'].unique()))"
   ]
  }
 ],
 "metadata": {
  "kernelspec": {
   "display_name": "Python 3.9.12 ('base')",
   "language": "python",
   "name": "python3"
  },
  "language_info": {
   "codemirror_mode": {
    "name": "ipython",
    "version": 3
   },
   "file_extension": ".py",
   "mimetype": "text/x-python",
   "name": "python",
   "nbconvert_exporter": "python",
   "pygments_lexer": "ipython3",
   "version": "3.9.12"
  },
  "toc": {
   "base_numbering": 1,
   "nav_menu": {},
   "number_sections": true,
   "sideBar": true,
   "skip_h1_title": false,
   "title_cell": "Table of Contents",
   "title_sidebar": "Contents",
   "toc_cell": false,
   "toc_position": {},
   "toc_section_display": true,
   "toc_window_display": true
  },
  "vscode": {
   "interpreter": {
    "hash": "ad2bdc8ecc057115af97d19610ffacc2b4e99fae6737bb82f5d7fb13d2f2c186"
   }
  }
 },
 "nbformat": 4,
 "nbformat_minor": 1
}
